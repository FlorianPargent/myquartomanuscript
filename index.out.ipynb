{
 "cells": [
  {
   "cell_type": "markdown",
   "metadata": {},
   "source": [
    "# New Insights into PCA + Varimax for Psychological Researchers\n",
    "\n",
    "A short commentary on Rohe & Zeng (2023)\n",
    "\n",
    "Florian Pargent [![](data:image/png;base64,iVBORw0KGgoAAAANSUhEUgAAABAAAAAQCAYAAAAf8/9hAAAAGXRFWHRTb2Z0d2FyZQBBZG9iZSBJbWFnZVJlYWR5ccllPAAAA2ZpVFh0WE1MOmNvbS5hZG9iZS54bXAAAAAAADw/eHBhY2tldCBiZWdpbj0i77u/IiBpZD0iVzVNME1wQ2VoaUh6cmVTek5UY3prYzlkIj8+IDx4OnhtcG1ldGEgeG1sbnM6eD0iYWRvYmU6bnM6bWV0YS8iIHg6eG1wdGs9IkFkb2JlIFhNUCBDb3JlIDUuMC1jMDYwIDYxLjEzNDc3NywgMjAxMC8wMi8xMi0xNzozMjowMCAgICAgICAgIj4gPHJkZjpSREYgeG1sbnM6cmRmPSJodHRwOi8vd3d3LnczLm9yZy8xOTk5LzAyLzIyLXJkZi1zeW50YXgtbnMjIj4gPHJkZjpEZXNjcmlwdGlvbiByZGY6YWJvdXQ9IiIgeG1sbnM6eG1wTU09Imh0dHA6Ly9ucy5hZG9iZS5jb20veGFwLzEuMC9tbS8iIHhtbG5zOnN0UmVmPSJodHRwOi8vbnMuYWRvYmUuY29tL3hhcC8xLjAvc1R5cGUvUmVzb3VyY2VSZWYjIiB4bWxuczp4bXA9Imh0dHA6Ly9ucy5hZG9iZS5jb20veGFwLzEuMC8iIHhtcE1NOk9yaWdpbmFsRG9jdW1lbnRJRD0ieG1wLmRpZDo1N0NEMjA4MDI1MjA2ODExOTk0QzkzNTEzRjZEQTg1NyIgeG1wTU06RG9jdW1lbnRJRD0ieG1wLmRpZDozM0NDOEJGNEZGNTcxMUUxODdBOEVCODg2RjdCQ0QwOSIgeG1wTU06SW5zdGFuY2VJRD0ieG1wLmlpZDozM0NDOEJGM0ZGNTcxMUUxODdBOEVCODg2RjdCQ0QwOSIgeG1wOkNyZWF0b3JUb29sPSJBZG9iZSBQaG90b3Nob3AgQ1M1IE1hY2ludG9zaCI+IDx4bXBNTTpEZXJpdmVkRnJvbSBzdFJlZjppbnN0YW5jZUlEPSJ4bXAuaWlkOkZDN0YxMTc0MDcyMDY4MTE5NUZFRDc5MUM2MUUwNEREIiBzdFJlZjpkb2N1bWVudElEPSJ4bXAuZGlkOjU3Q0QyMDgwMjUyMDY4MTE5OTRDOTM1MTNGNkRBODU3Ii8+IDwvcmRmOkRlc2NyaXB0aW9uPiA8L3JkZjpSREY+IDwveDp4bXBtZXRhPiA8P3hwYWNrZXQgZW5kPSJyIj8+84NovQAAAR1JREFUeNpiZEADy85ZJgCpeCB2QJM6AMQLo4yOL0AWZETSqACk1gOxAQN+cAGIA4EGPQBxmJA0nwdpjjQ8xqArmczw5tMHXAaALDgP1QMxAGqzAAPxQACqh4ER6uf5MBlkm0X4EGayMfMw/Pr7Bd2gRBZogMFBrv01hisv5jLsv9nLAPIOMnjy8RDDyYctyAbFM2EJbRQw+aAWw/LzVgx7b+cwCHKqMhjJFCBLOzAR6+lXX84xnHjYyqAo5IUizkRCwIENQQckGSDGY4TVgAPEaraQr2a4/24bSuoExcJCfAEJihXkWDj3ZAKy9EJGaEo8T0QSxkjSwORsCAuDQCD+QILmD1A9kECEZgxDaEZhICIzGcIyEyOl2RkgwAAhkmC+eAm0TAAAAABJRU5ErkJggg==)](https://orcid.org/0000-0002-2388-553X) (Department of Psychology, LMU Munich)  \n",
    "David Goretzko (Utrecht University)  \n",
    "Timo von Oertzen (Bundeswehr University Munich and Max Planck Institute for Human Development)  \n",
    "March 26, 2024"
   ],
   "id": "66e10688-a36d-482f-a055-e7b3290a5cd8"
  },
  {
   "cell_type": "code",
   "execution_count": null,
   "metadata": {},
   "outputs": [],
   "source": [
    "phonedata_items = read.csv2(\"datasets/Items.csv\")\n",
    "phonedata_items = na.omit(phonedata_items[, 3:302])\n",
    "phonedata_sensing = readRDS(file = \"datasets/clusterdata.RDS\")\n",
    "phonedata_sensing = phonedata_sensing[, c(1:1821)]"
   ],
   "id": "a56458cd-b427-4439-8973-de1d69c663aa"
  },
  {
   "cell_type": "markdown",
   "metadata": {},
   "source": [
    "> **Important**\n",
    ">\n",
    "> This document is **an updated copy** of a [published commentary](https://doi.org/10.1093/jrsssb/qkad054), to showcase [Quarto manuscripts](https://quarto.org/docs/manuscripts/) in our [Quarto workshop](https://florianpargent.github.io/Quarto_LMU_OSC/). The official online repository of our published commentary can be found [here](https://osf.io/5symf/).\n",
    "\n",
    "### Commentary\n",
    "\n",
    "As psychologists, we appreciate Rohe & Zeng’s (R&Z; Rohe & Zeng ([2023](#ref-rohe2023vintage))) new insights into “vintage” principal component analysis with varimax rotation (PCA+VR). Theories of intelligence and personality, perhaps psychology’s contributions best known outside of our field, have been a direct product of PCA. PCA+VR is still widely used for developing and evaluating psychological tests and questionnaires, although the literature has fought against it in favor of more complex factor analytic techniques ([Fokkema & Greiff, 2017](#ref-fokkema2017how)).\n",
    "\n",
    "In our opinion, abandoning the simpler PCA(+VR) is a mistake and R&Z refute a common argument by proving that PCA+VR *can* perform statistical inference in latent variable models: The factor indeterminacy problem which plagued VR since its invention only applies for the special case of normally distributed factors. For any other distribution, perfect factor indeterminacy does not apply, although identifiability might be weak. However, distributions producing sparse components fulfill a *sufficient* leptokurtic condition, which can be confirmed by simple diagnostics.\n",
    "\n",
    "Because the results are complicated, we relate them to psychological applications. The examples in R&Z only deal with sparse binary network data, but in typical psychological applications, the $A$ matrix consists of responses of $n$ persons to $d$ items which are either binary (e.g., intelligence tests), integer-valued (e.g., personality questionnaires) or continuous (e.g., digital sensors). Psychologists are often interested in whether i) items can be structured in a simple way to represent a small number of meaningful components, and ii) those components can be interpreted as psychological constructs that describe interindividual differences. R&Z show that “radial streaks” in the rotated loading matrix $\\hat{Y}$ suggest that item loadings are identified and can be estimated with PCA+VR from the data. Similarly, streaks in the component matrix $\\hat{Z}$ suggest that person scores can be estimated.\n",
    "\n",
    "However, we question whether streaks are common in psychology with regard to both aspects. Test and questionnaire items are traditionally designed to measure only a single construct, so “simple structure” reflected by streaks in $\\hat{Y}$ might be expected. Psychological constructs are often conceptualized as roughly normally distributed, so streaks in $\\hat{Z}$ seem more questionable. In our online materials (<https://osf.io/5symf/>), we analyze a dataset ([Stachl et al., 2020](#ref-stachl2020predicting)) containing both personality items ($n =687$, $d =300$) and smartphone sensing variables ($n =624$, $d =1821$). Streaks were found only in $\\hat{Y}$ but not in $\\hat{Z}$. It is also a cautionary example of how imputation of missing values in combination with inappropriate data processing seemingly produce streaks in $\\hat{Z}$ that belong to uninterpretable components. Degree normalization as discussed in R&Z is not suitable for many psychological datasets and other procedures like z-standardization are often required to detect meaningful factors. Finally, we demonstrate R&Z’s side result that the matrix $\\hat{Z}\\hat{B}$ from PCA+VR can estimate person scores simulated from oblique leptokurtic components.\n",
    "\n",
    "In our opinion, the main usefulness of PCA+VR not necessarily stems from its ability to estimate latent variable models. PCA excels at providing meaningful descriptions in practical applications but R&Z’s and our examples also show that there is rarely a single definite structure. Components are most useful when they predict other meaningful quantities, regardless of the assumed epistemological nature of psychological constructs ([Yarkoni, 2020](#ref-yarkoni2020implicit)).\n",
    "\n",
    "### References\n",
    "\n",
    "Fokkema, M., & Greiff, S. (2017). How Performing PCA and CFA on the Same Data Equals Trouble: Overfitting in the Assessment of Internal Structure and Some Editorial Thoughts on It. *European Journal of Psychological Assessment*, *33*(6), 399–402. <https://doi.org/10.1027/1015-5759/a000460>\n",
    "\n",
    "Rohe, K., & Zeng, M. (2023). <span class=\"nocase\">Vintage factor analysis with Varimax performs statistical inference</span>. *Journal of the Royal Statistical Society Series B: Statistical Methodology*, *85*(4), 1037–1060. <https://doi.org/10.1093/jrsssb/qkad029>\n",
    "\n",
    "Stachl, C., Au, Q., Schoedel, R., Gosling, S. D., Harari, G. M., Buschek, D., Völkel, S. T., Schuwerk, T., Oldemeier, M., Ullmann, T., Hussmann, H., Bischl, B., & Bühner, M. (2020). Predicting personality from patterns of behavior collected with smartphones. *Proceedings of the National Academy of Sciences of the United States of America*, *117*(30), 17680–17687. <https://doi.org/10.1073/pnas.1920484117>\n",
    "\n",
    "Yarkoni, T. (2020). Implicit Realism Impedes Progress in Psychology: Comment on Fried (2020). *Psychological Inquiry*, *31*(4), 326–333. <https://doi.org/10.1080/1047840X.2020.1853478>"
   ],
   "id": "0ea70b5d-11d9-4a3c-9589-c5dca5b990fc"
  }
 ],
 "nbformat": 4,
 "nbformat_minor": 5,
 "metadata": {}
}
