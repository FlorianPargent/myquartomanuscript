{
 "cells": [
  {
   "cell_type": "markdown",
   "metadata": {},
   "source": [
    "# Sensitivity Analysis: Impute Sensing Data with MiceRanger\n",
    "\n",
    "Sensitivity Analysis\n",
    "\n",
    "Florian Pargent (LMU Munich)  \n",
    "David Goretzko (Utrecht University)  \n",
    "Timo von Oertzen (Bundeswehr University Munich and Max Planck Institute for Human Development)  \n",
    "March 4, 2024\n",
    "\n",
    "> **Important**\n",
    ">\n",
    "> This document is **an updated copy** of a [published commentary](https://doi.org/10.1093/jrsssb/qkad054), to showcase [Quarto manuscripts](https://quarto.org/docs/manuscripts/) in our [Quarto workshop](https://florianpargent.github.io/Quarto_LMU_OSC/). The official online repository of our published commentary can be found [here](https://osf.io/5symf/).\n",
    "\n",
    "The analysis presented in the [electronic supplemental material document](electronic_supplemental_material.qmd) are quite similar for more elaborate imputation schemes. For the interested reader, we prepared data imputed with the `miceRanger` package."
   ],
   "id": "ca53d9fe-d6df-49b2-9303-8d9513576e00"
  },
  {
   "cell_type": "code",
   "execution_count": null,
   "metadata": {},
   "outputs": [],
   "source": [
    "library(miceRanger)\n",
    "phonedata_sensing = readRDS(file = \"datasets/clusterdata.RDS\")\n",
    "phonedata_sensing = phonedata_sensing[, c(1:1821)]\n",
    "set.seed(42)\n",
    "mice_obj_sensing = miceRanger(phonedata_sensing, m = 1, maxiter = 1, \n",
    "  valueSelector = \"meanMatch\", verbose = FALSE)\n",
    "saveRDS(mice_obj_sensing, file = \"mice_obj_sensing.RDS\")\n"
   ],
   "id": "77f36712-8fbd-4fa1-b9da-dfbfaf7c8937"
  },
  {
   "cell_type": "markdown",
   "metadata": {},
   "source": [
    "See the instructions on how to use this imputed dataset in the [electronic supplemental materials](electronic_supplemental_material.qmd#mobile-sensing-data)."
   ],
   "id": "c7e41907-03f1-4fe8-aebb-2c4c8e913e9a"
  }
 ],
 "nbformat": 4,
 "nbformat_minor": 5,
 "metadata": {}
}
